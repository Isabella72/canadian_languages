{
 "cells": [
  {
   "cell_type": "code",
   "execution_count": 2,
   "id": "5eb5f9c4-0100-4dfd-bb85-fe017027d2b6",
   "metadata": {},
   "outputs": [],
   "source": [
    "canadian_languages <- c(\"English\", \"French\")"
   ]
  },
  {
   "cell_type": "code",
   "execution_count": 3,
   "id": "b972ba43-079e-4b10-ae49-5e1a3993996e",
   "metadata": {},
   "outputs": [
    {
     "data": {
      "text/html": [
       "<style>\n",
       ".list-inline {list-style: none; margin:0; padding: 0}\n",
       ".list-inline>li {display: inline-block}\n",
       ".list-inline>li:not(:last-child)::after {content: \"\\00b7\"; padding: 0 .5ex}\n",
       "</style>\n",
       "<ol class=list-inline><li>'English'</li><li>'French'</li></ol>\n"
      ],
      "text/latex": [
       "\\begin{enumerate*}\n",
       "\\item 'English'\n",
       "\\item 'French'\n",
       "\\end{enumerate*}\n"
      ],
      "text/markdown": [
       "1. 'English'\n",
       "2. 'French'\n",
       "\n",
       "\n"
      ],
      "text/plain": [
       "[1] \"English\" \"French\" "
      ]
     },
     "metadata": {},
     "output_type": "display_data"
    }
   ],
   "source": [
    "canadian_languages"
   ]
  },
  {
   "cell_type": "code",
   "execution_count": null,
   "id": "3c8277ed-2a8d-4baf-b485-8690a60fe8f8",
   "metadata": {},
   "outputs": [],
   "source": []
  }
 ],
 "metadata": {
  "kernelspec": {
   "display_name": "R",
   "language": "R",
   "name": "ir"
  },
  "language_info": {
   "codemirror_mode": "r",
   "file_extension": ".r",
   "mimetype": "text/x-r-source",
   "name": "R",
   "pygments_lexer": "r",
   "version": "4.3.1"
  }
 },
 "nbformat": 4,
 "nbformat_minor": 5
}
